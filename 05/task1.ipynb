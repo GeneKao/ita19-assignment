{
 "cells": [
  {
   "cell_type": "code",
   "execution_count": 1,
   "metadata": {},
   "outputs": [
    {
     "name": "stdout",
     "output_type": "stream",
     "text": [
      "Box frame transformed: Frame(Point(1.000, 1.000, 1.000), Vector(0.302, -0.905, -0.302), Vector(0.862, 0.123, 0.492))\n"
     ]
    }
   ],
   "source": [
    "from compas.geometry import Frame\n",
    "from compas.geometry import Box\n",
    "\n",
    "# Box in the world coordinate system\n",
    "frame = Frame([0, 0, 0], [1, 0, 0], [0, 1, 0])\n",
    "width, length, height = 1, 1, 1\n",
    "box_origin = Box(frame, width, length, height)\n",
    "\n",
    "# Frame F representing a coordinate system\n",
    "F = Frame([1, 1, 1], [1, -3, -1], [1, 1, 1])\n",
    "\n",
    "# Represent box frame in frame F and construct new box\n",
    "box_frame_transformed = F.to_world_coords(box_origin.frame)\n",
    "box = Box(box_frame_transformed, width, length, height)\n",
    "print(\"Box frame transformed:\", box.frame)"
   ]
  },
  {
   "cell_type": "code",
   "execution_count": 2,
   "metadata": {},
   "outputs": [],
   "source": [
    "from compas.geometry import Projection\n",
    "from compas.datastructures import Mesh, mesh_transform_numpy\n",
    "\n",
    "camera_position = [5.0, -5.0, 5.0]\n",
    "P = Projection.perspective([0, 0, 0], [0, 0, 1], camera_position)\n",
    "\n",
    "mesh_box = Mesh.from_shape(box)\n",
    "mesh_transform_numpy(mesh_box, P)"
   ]
  },
  {
   "cell_type": "code",
   "execution_count": 3,
   "metadata": {},
   "outputs": [
    {
     "name": "stderr",
     "output_type": "stream",
     "text": [
      "/Users/kaot/anaconda3/envs/ita19/lib/python3.6/site-packages/traittypes/traittypes.py:101: UserWarning: Given trait value dtype \"int64\" does not match required type \"float32\". A coerced copy has been created.\n",
      "  np.dtype(self.dtype).name))\n",
      "/Users/kaot/anaconda3/envs/ita19/lib/python3.6/site-packages/traittypes/traittypes.py:101: UserWarning: Given trait value dtype \"float64\" does not match required type \"float32\". A coerced copy has been created.\n",
      "  np.dtype(self.dtype).name))\n"
     ]
    },
    {
     "data": {
      "application/vnd.jupyter.widget-view+json": {
       "model_id": "d75d960d31a947a6ac158b2b38d86147",
       "version_major": 2,
       "version_minor": 0
      },
      "text/plain": [
       "Renderer(camera=PerspectiveCamera(aspect=1.5, children=(DirectionalLight(intensity=0.5, position=(0.0, 0.0, 1.…"
      ]
     },
     "metadata": {},
     "output_type": "display_data"
    }
   ],
   "source": [
    "from viewer import ThreeJsViewer\n",
    "viewer = ThreeJsViewer()\n",
    "viewer.draw_frame(F, line_width=2)\n",
    "viewer.draw_box(box)\n",
    "viewer.draw_mesh_edges(mesh_box, color=(1,1,0))\n",
    "\n",
    "viewer.show(camera_position)"
   ]
  }
 ],
 "metadata": {
  "kernelspec": {
   "display_name": "Python [conda env:ita19] *",
   "language": "python",
   "name": "conda-env-ita19-py"
  },
  "language_info": {
   "codemirror_mode": {
    "name": "ipython",
    "version": 3
   },
   "file_extension": ".py",
   "mimetype": "text/x-python",
   "name": "python",
   "nbconvert_exporter": "python",
   "pygments_lexer": "ipython3",
   "version": "3.6.7"
  }
 },
 "nbformat": 4,
 "nbformat_minor": 2
}
