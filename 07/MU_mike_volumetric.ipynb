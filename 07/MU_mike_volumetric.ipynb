{
 "cells": [
  {
   "cell_type": "code",
   "execution_count": 1,
   "metadata": {},
   "outputs": [],
   "source": [
    "import numpy as np\n",
    "import ipyvolume as ipv\n",
    "from compas.geometry import Point, Frame, Box, Sphere, Cylinder, Circle, Plane\n",
    "from compas.geometry import Reflection\n",
    "from compas_vol.primitives import VolBox, VolSphere, VolCylinder, VolPlane\n",
    "from compas_vol.combinations import Union, Subtraction, SmoothUnion, SmoothSubtraction\n",
    "from compas_vol.modifications import Shell"
   ]
  },
  {
   "cell_type": "code",
   "execution_count": 2,
   "metadata": {},
   "outputs": [],
   "source": [
    "sphere_head1 = Sphere(Point(0, 0, 0), 10)\n",
    "vsphere_head1 = VolSphere(sphere_head1)\n",
    "\n",
    "sphere_head2 = Sphere(Point(0, 6, 2), 8)\n",
    "vsphere_head2 = VolSphere(sphere_head2)\n",
    "\n",
    "sphere_eye1 = Sphere(Point(0, 5.5, 6), 5.8)\n",
    "vsphere_eye1 = VolSphere(sphere_eye1)\n",
    "\n",
    "sphere_eye2 = Sphere(Point(0, 4.6, 4), 6.5)\n",
    "vsphere_eye2 = VolSphere(sphere_eye2)\n",
    "\n",
    "sphere_eyeball1 = Sphere(Point(0, 4.6, 9.2), 1.5)\n",
    "vsphere_eyeball1 = VolSphere(sphere_eyeball1)\n",
    "\n",
    "sphere_eyeball2 = Sphere(Point(0, 4.6, 9.5), 1)\n",
    "vsphere_eyeball2 = VolSphere(sphere_eyeball2)\n",
    "\n",
    "vmouth1= VolCylinder(Cylinder(Circle(Plane((0, -1, 6), (0,0,1)), 4), 20))\n",
    "vmouth2= VolCylinder(Cylinder(Circle(Plane((0, 8, 6), (0,0,1)), 10), 20))\n",
    "\n",
    "ear_right1 = Cylinder(Circle(Plane((6, 10, 3), (1,1,0)), 1), 6)\n",
    "ear_right2 = Cylinder(Circle(Plane((7, 12, 3), (1,0.5,0)), 1), 6)\n",
    "vear_right1= VolCylinder(ear_right1)\n",
    "vear_right2= VolCylinder(ear_right2)\n",
    "\n",
    "right_hand1 = Box(Frame([10, 0, 3], [1, 0.5, 0], [0, 0, -1]), 1.5, 1.5, 10.0)\n",
    "vright_hand1 = VolBox(right_hand1, 0.6)\n",
    "right_hand2 = Box(Frame([13, -9, 3], [3.8, 0.5, 0], [0, 0, -1]), 1.5, 1.5, 10.0)\n",
    "vright_hand2 = VolBox(right_hand2, 0.6)\n",
    "right_hand3 = Box(Frame([13, -15, 3], [3.8, -1, -1], [0, 0, -1]), 1.5, 3.5, 5.0)\n",
    "vright_hand3 = VolBox(right_hand3, 0.6)\n",
    "\n",
    "right_leg1 = Box(Frame([5, -10, 3], [1, 0.2, 0], [0, 0, -1]), 1.8, 1.8, 8.0)\n",
    "vright_leg1 = VolBox(right_leg1, 0.6)\n",
    "right_leg2 = Box(Frame([5.5, -18.5, 3], [1, -0.1, 0], [0, 0, -1]), 1.8, 1.8, 10.0)\n",
    "vright_leg2 = VolBox(right_leg2, 0.6)\n",
    "right_leg3 = Box(Frame([7, -24.5, 6], [1, 0, -1.5], [0, 0, -1]), 2, 7.8, 2.0)\n",
    "vright_leg3 = VolBox(right_leg3, 0.6)\n",
    "right_leg4 = Box(Frame([4, -24.5, 6], [1, 0, 0.5], [0, 0, -1]), 2, 7.8, 2.0)\n",
    "vright_leg4 = VolBox(right_leg4, 0.6)\n",
    "right_leg5 = Box(Frame([5.5, -24.5, 6], [1, 0, -0.3], [0, 0, -1]), 2, 7.8, 2.0)\n",
    "vright_leg5 = VolBox(right_leg5, 0.6)\n",
    "\n",
    "YZ = Reflection([0,0,0], [1,0,0])\n",
    "\n",
    "vear_left1= VolCylinder(ear_right1.transformed(YZ))\n",
    "vear_left2= VolCylinder(ear_right2.transformed(YZ))\n",
    "\n",
    "\n",
    "vleft_hand1 = VolBox(right_hand1.transformed(YZ), 0.6)\n",
    "vleft_hand2 = VolBox(right_hand2.transformed(YZ), 0.6)\n",
    "vleft_hand3 = VolBox(right_hand3.transformed(YZ), 0.6)\n",
    "\n",
    "vleft_leg1 = VolBox(right_leg1.transformed(YZ), 0.6)\n",
    "vleft_leg2 = VolBox(right_leg2.transformed(YZ), 0.6)\n",
    "vleft_leg3 = VolBox(right_leg3.transformed(YZ), 0.6)\n",
    "vleft_leg4 = VolBox(right_leg4.transformed(YZ), 0.6)\n",
    "vleft_leg5 = VolBox(right_leg5.transformed(YZ), 0.6)"
   ]
  },
  {
   "cell_type": "code",
   "execution_count": 3,
   "metadata": {},
   "outputs": [],
   "source": [
    "\n",
    "union_head = SmoothUnion(vsphere_head1, vsphere_head2, 4)\n",
    "union_head = SmoothSubtraction(union_head, vsphere_eye1, 3)\n",
    "union_head = SmoothUnion(union_head, vsphere_eye2)\n",
    "union_head = SmoothSubtraction(union_head, vsphere_eyeball1)\n",
    "union_head = SmoothUnion(union_head, vsphere_eyeball2)\n",
    "\n",
    "union_head = Shell(union_head, thickness=2.8, side=1)\n",
    "union_mouth = Subtraction(vmouth1, vmouth2)\n",
    "union_head = SmoothSubtraction(union_head, union_mouth, 2)\n",
    "\n",
    "union_ears1 = Subtraction(vear_right1, vear_right2)\n",
    "union_ears2 = Subtraction(vear_left1, vear_left2)\n",
    "union_ears = Union(union_ears1, union_ears2)\n",
    "union_head = SmoothUnion(union_head, union_ears, 1.5)\n",
    "\n",
    "union_hand = SmoothUnion(vright_hand2, vright_hand1)\n",
    "union_hand = SmoothUnion(union_hand, vright_hand3)\n",
    "union_hand = SmoothUnion(union_hand, vleft_hand1)\n",
    "union_hand = SmoothUnion(union_hand, vleft_hand2)\n",
    "union_hand = SmoothUnion(union_hand, vleft_hand3)\n",
    "union_head = SmoothUnion(union_head, union_hand)\n",
    "\n",
    "union_leg = SmoothUnion(vright_leg1, vright_leg2)\n",
    "union_leg = SmoothUnion(union_leg, vright_leg3)\n",
    "union_leg = SmoothUnion(union_leg, vright_leg4)\n",
    "union_leg = SmoothUnion(union_leg, vright_leg5)\n",
    "union_leg = SmoothUnion(union_leg, vleft_leg1)\n",
    "union_leg = SmoothUnion(union_leg, vleft_leg2)\n",
    "union_leg = SmoothUnion(union_leg, vleft_leg3)\n",
    "union_leg = SmoothUnion(union_leg, vleft_leg4)\n",
    "union_leg = SmoothUnion(union_leg, vleft_leg5)\n",
    "union_head = SmoothUnion(union_head, union_leg)"
   ]
  },
  {
   "cell_type": "code",
   "execution_count": 4,
   "metadata": {},
   "outputs": [],
   "source": [
    "x, y, z = np.ogrid[-30:30:128j,-30:30:128j,-30:30:128j]\n",
    "dm = union_head.get_distance_numpy(x, y, z)"
   ]
  },
  {
   "cell_type": "code",
   "execution_count": 5,
   "metadata": {
    "scrolled": false
   },
   "outputs": [
    {
     "data": {
      "application/vnd.jupyter.widget-view+json": {
       "model_id": "45263988c951429994ffe0142c428112",
       "version_major": 2,
       "version_minor": 0
      },
      "text/plain": [
       "VBox(children=(Figure(camera=PerspectiveCamera(fov=46.0, position=(0.0, 0.0, 2.0), quaternion=(0.0, 0.0, 0.0, …"
      ]
     },
     "metadata": {},
     "output_type": "display_data"
    }
   ],
   "source": [
    "fig = ipv.figure()\n",
    "mesh = ipv.plot_isosurface(dm, 0.0, color='yellowgreen', extent=[(-30,30) for _ in range(3)])\n",
    "ipv.style.use('minimal')\n",
    "ipv.show()"
   ]
  },
  {
   "cell_type": "markdown",
   "metadata": {},
   "source": []
  },
  {
   "cell_type": "code",
   "execution_count": 6,
   "metadata": {},
   "outputs": [],
   "source": [
    "from compas_vol.utilities import export_ipv_mesh"
   ]
  },
  {
   "cell_type": "code",
   "execution_count": 7,
   "metadata": {},
   "outputs": [],
   "source": [
    "export_ipv_mesh(mesh, './MU-mike.obj')"
   ]
  },
  {
   "cell_type": "code",
   "execution_count": null,
   "metadata": {},
   "outputs": [],
   "source": []
  }
 ],
 "metadata": {
  "kernelspec": {
   "display_name": "Python [conda env:ita19] *",
   "language": "python",
   "name": "conda-env-ita19-py"
  },
  "language_info": {
   "codemirror_mode": {
    "name": "ipython",
    "version": 3
   },
   "file_extension": ".py",
   "mimetype": "text/x-python",
   "name": "python",
   "nbconvert_exporter": "python",
   "pygments_lexer": "ipython3",
   "version": "3.6.7"
  }
 },
 "nbformat": 4,
 "nbformat_minor": 2
}
